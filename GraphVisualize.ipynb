{
  "nbformat": 4,
  "nbformat_minor": 0,
  "metadata": {
    "colab": {
      "name": "GraphVisualize.ipynb",
      "provenance": [],
      "authorship_tag": "ABX9TyMN0AHT17e75J4EGD9Gx228",
      "include_colab_link": true
    },
    "kernelspec": {
      "name": "python3",
      "display_name": "Python 3"
    }
  },
  "cells": [
    {
      "cell_type": "markdown",
      "metadata": {
        "id": "view-in-github",
        "colab_type": "text"
      },
      "source": [
        "<a href=\"https://colab.research.google.com/github/akash-kaul/ecosys/blob/master/GraphVisualize.ipynb\" target=\"_parent\"><img src=\"https://colab.research.google.com/assets/colab-badge.svg\" alt=\"Open In Colab\"/></a>"
      ]
    },
    {
      "cell_type": "markdown",
      "metadata": {
        "id": "lrsOeVEw196-",
        "colab_type": "text"
      },
      "source": [
        "# Set-Up"
      ]
    },
    {
      "cell_type": "code",
      "metadata": {
        "id": "ZPpwz8osuPxc",
        "colab_type": "code",
        "colab": {}
      },
      "source": [
        "!pip install pyTigerGraph\n",
        "!pip install pandas\n",
        "!pip install flat-table\n",
        "\n",
        "import pyTigerGraph as tg\n",
        "import plotly.express as px\n",
        "import pandas as pd\n",
        "import flat_table\n",
        "\n",
        "graph = tg.TigerGraphConnection(\n",
        "    host=\"https://61af4f31021c449e85f690cbec28ef7a.i.tgcloud.io\", \n",
        "    graphname=\"MyGraph\", \n",
        "    apiToken=\"r72kccg1jaso02s8gn20fskgfnh7brim\")"
      ],
      "execution_count": null,
      "outputs": []
    },
    {
      "cell_type": "markdown",
      "metadata": {
        "id": "CoTZvMS746uq",
        "colab_type": "text"
      },
      "source": [
        "# Print all Endpoints\n"
      ]
    },
    {
      "cell_type": "code",
      "metadata": {
        "id": "oVHGUJdhxQBP",
        "colab_type": "code",
        "colab": {}
      },
      "source": [
        "results = graph.getEndpoints()\n",
        "print(results)"
      ],
      "execution_count": null,
      "outputs": []
    },
    {
      "cell_type": "markdown",
      "metadata": {
        "id": "U_c6qn1a4_hQ",
        "colab_type": "text"
      },
      "source": [
        "# Run Query"
      ]
    },
    {
      "cell_type": "code",
      "metadata": {
        "id": "1l9leUe8zXBx",
        "colab_type": "code",
        "colab": {}
      },
      "source": [
        "preInstalledResult = graph.runInstalledQuery(\"AuthorMostPubs\", {})\n",
        "parsR = (preInstalledResult)\n",
        "\n",
        "df = pd.DataFrame(parsR[0])\n",
        "df1 = flat_table.normalize(df)\n",
        "df2 = df1.rename(columns={'Author.attributes.@pubNum':'Number of Publications',\n",
        "                          'Author.attributes.author_name': 'Name'})\n",
        "df3 = df2[['Name', 'Number of Publications']]\n",
        "df3\n"
      ],
      "execution_count": null,
      "outputs": []
    },
    {
      "cell_type": "markdown",
      "metadata": {
        "id": "kPD9EhcbNMyD",
        "colab_type": "text"
      },
      "source": [
        "# Display Results"
      ]
    },
    {
      "cell_type": "code",
      "metadata": {
        "id": "T7P-N3dR2Tx5",
        "colab_type": "code",
        "colab": {}
      },
      "source": [
        "fig = px.bar(df3, x=\"Name\", y=\"Number of Publications\", \n",
        "             color='Number of Publications',\n",
        "             labels={'Name': 'Author'},  height=400)\n",
        "# fig.show()"
      ],
      "execution_count": null,
      "outputs": []
    },
    {
      "cell_type": "markdown",
      "metadata": {
        "id": "Vdzlu97uhN0-",
        "colab_type": "text"
      },
      "source": [
        "# Dash Setup"
      ]
    },
    {
      "cell_type": "code",
      "metadata": {
        "id": "T8y-MF47hV7c",
        "colab_type": "code",
        "colab": {
          "base_uri": "https://localhost:8080/",
          "height": 238
        },
        "outputId": "0d419f20-8214-4e14-cf48-6549e4cc80d0"
      },
      "source": [
        "!wget https://bin.equinox.io/c/4VmDzA7iaHb/ngrok-stable-linux-amd64.zip\n",
        "!unzip ngrok-stable-linux-amd64.zip"
      ],
      "execution_count": null,
      "outputs": [
        {
          "output_type": "stream",
          "text": [
            "--2020-05-27 00:46:36--  https://bin.equinox.io/c/4VmDzA7iaHb/ngrok-stable-linux-amd64.zip\n",
            "Resolving bin.equinox.io (bin.equinox.io)... 34.233.91.203, 3.214.214.70, 52.86.21.186, ...\n",
            "Connecting to bin.equinox.io (bin.equinox.io)|34.233.91.203|:443... connected.\n",
            "HTTP request sent, awaiting response... 200 OK\n",
            "Length: 13773305 (13M) [application/octet-stream]\n",
            "Saving to: ‘ngrok-stable-linux-amd64.zip.4’\n",
            "\n",
            "ngrok-stable-linux- 100%[===================>]  13.13M  14.0MB/s    in 0.9s    \n",
            "\n",
            "2020-05-27 00:46:37 (14.0 MB/s) - ‘ngrok-stable-linux-amd64.zip.4’ saved [13773305/13773305]\n",
            "\n",
            "Archive:  ngrok-stable-linux-amd64.zip\n",
            "replace ngrok? [y]es, [n]o, [A]ll, [N]one, [r]ename: n\n"
          ],
          "name": "stdout"
        }
      ]
    },
    {
      "cell_type": "code",
      "metadata": {
        "id": "GKwvuw0ymAUI",
        "colab_type": "code",
        "colab": {}
      },
      "source": [
        "get_ipython().system_raw('./ngrok http 8050 &')"
      ],
      "execution_count": null,
      "outputs": []
    },
    {
      "cell_type": "code",
      "metadata": {
        "id": "wOpgN7OCmA9R",
        "colab_type": "code",
        "colab": {
          "base_uri": "https://localhost:8080/",
          "height": 34
        },
        "outputId": "78f54c5f-cc19-40ba-bd27-f446376d0094"
      },
      "source": [
        "! curl -s http://localhost:4040/api/tunnels | python3 -c \\\n",
        "    \"import sys, json; print(json.load(sys.stdin)['tunnels'][0]['public_url'])\""
      ],
      "execution_count": null,
      "outputs": [
        {
          "output_type": "stream",
          "text": [
            "https://aeeb1694.ngrok.io\n"
          ],
          "name": "stdout"
        }
      ]
    },
    {
      "cell_type": "code",
      "metadata": {
        "id": "2RjTOieihQL7",
        "colab_type": "code",
        "colab": {}
      },
      "source": [
        "!pip install dash==1.12.0\n",
        "!pip install dash-html-components==1.0.3  \n",
        "!pip install dash-core-components==1.10.0 \n",
        "!pip install dash-table==4.7.0 "
      ],
      "execution_count": null,
      "outputs": []
    },
    {
      "cell_type": "markdown",
      "metadata": {
        "id": "3gC1JuYBggFL",
        "colab_type": "text"
      },
      "source": [
        "# Import Dash\n"
      ]
    },
    {
      "cell_type": "code",
      "metadata": {
        "id": "3pHEsBKYfWBk",
        "colab_type": "code",
        "colab": {
          "base_uri": "https://localhost:8080/",
          "height": 34
        },
        "outputId": "6ee389c8-7bf9-4c88-b6dc-bbccaaafe0ec"
      },
      "source": [
        "%%writefile dash_app.py\n",
        "import dash\n",
        "import dash_core_components as dcc\n",
        "import dash_html_components as html\n",
        "\n",
        "external_stylesheets = ['https://codepen.io/chriddyp/pen/bWLwgP.css']\n",
        "\n",
        "app = dash.Dash(__name__, external_stylesheets=external_stylesheets)\n",
        "\n",
        "colors = {\n",
        "    'background': '#111111',\n",
        "    'text': '#7FDBFF'\n",
        "}\n",
        "\n",
        "app.layout = html.Div(style={'backgroundColor': colors['background']}, children=[\n",
        "    html.H1(\n",
        "        children='Hello Dash',\n",
        "        style={\n",
        "            'textAlign': 'center',\n",
        "            'color': colors['text']\n",
        "        }\n",
        "    ),\n",
        "\n",
        "    html.Div(children='Dash: A web application framework for Python.', style={\n",
        "        'textAlign': 'center',\n",
        "        'color': colors['text']\n",
        "    }),\n",
        "\n",
        "    dcc.Graph(\n",
        "        id='example-graph-2',\n",
        "        figure={\n",
        "            'data': [\n",
        "                {'x': [1, 2, 3], 'y': [4, 1, 2], 'type': 'bar', 'name': 'SF'},\n",
        "                {'x': [1, 2, 3], 'y': [2, 4, 5], 'type': 'bar', 'name': u'Montréal'},\n",
        "            ],\n",
        "            'layout': {\n",
        "                'plot_bgcolor': colors['background'],\n",
        "                'paper_bgcolor': colors['background'],\n",
        "                'font': {\n",
        "                    'color': colors['text']\n",
        "                }\n",
        "            }\n",
        "        }\n",
        "    )\n",
        "])\n",
        "\n",
        "if __name__ == '__main__':\n",
        "    app.run_server(debug=True)"
      ],
      "execution_count": null,
      "outputs": [
        {
          "output_type": "stream",
          "text": [
            "Overwriting dash_app.py\n"
          ],
          "name": "stdout"
        }
      ]
    },
    {
      "cell_type": "code",
      "metadata": {
        "id": "iPD0NI60gGlv",
        "colab_type": "code",
        "colab": {
          "base_uri": "https://localhost:8080/",
          "height": 306
        },
        "outputId": "a9908d60-a983-4463-9921-ea44ef0db737"
      },
      "source": [
        "!python dash_app.py"
      ],
      "execution_count": null,
      "outputs": [
        {
          "output_type": "stream",
          "text": [
            "Running on http://127.0.0.1:8050/\n",
            "Debugger PIN: 885-167-953\n",
            " * Serving Flask app \"dash_app\" (lazy loading)\n",
            " * Environment: production\n",
            "\u001b[31m   WARNING: This is a development server. Do not use it in a production deployment.\u001b[0m\n",
            "\u001b[2m   Use a production WSGI server instead.\u001b[0m\n",
            " * Debug mode: on\n",
            "Traceback (most recent call last):\n",
            "  File \"dash_app.py\", line 47, in <module>\n",
            "    app.run_server(debug=True)\n",
            "  File \"/usr/local/lib/python3.6/dist-packages/dash/dash.py\", line 1574, in run_server\n",
            "    self.server.run(host=host, port=port, debug=debug, **flask_run_options)\n",
            "  File \"/usr/local/lib/python3.6/dist-packages/flask/app.py\", line 990, in run\n",
            "    run_simple(host, port, self, **options)\n",
            "  File \"/usr/local/lib/python3.6/dist-packages/werkzeug/serving.py\", line 1030, in run_simple\n",
            "    s.bind(server_address)\n",
            "OSError: [Errno 98] Address already in use\n"
          ],
          "name": "stdout"
        }
      ]
    }
  ]
}